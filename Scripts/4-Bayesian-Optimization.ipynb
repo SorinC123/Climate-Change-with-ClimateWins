{
 "cells": [
  {
   "cell_type": "markdown",
   "id": "e418a4e0-97f2-44fa-abc2-0ef63a547ac7",
   "metadata": {},
   "source": [
    "# 2.4: Evaluating Hyperparameters\n",
    "## Part 2: Deep Learning"
   ]
  },
  {
   "cell_type": "markdown",
   "id": "100fc50d-5caa-4745-b08a-26b6c37f8916",
   "metadata": {},
   "source": [
    "### 1. Importing Libraries and Data"
   ]
  },
  {
   "cell_type": "code",
   "execution_count": 46,
   "id": "72339313-dcf2-4f20-baa2-440d34dd88ac",
   "metadata": {},
   "outputs": [],
   "source": [
    "import pandas as pd\n",
    "import numpy as np\n",
    "import seaborn as sns\n",
    "import os\n",
    "import operator\n",
    "import time\n",
    "import matplotlib.pyplot as plt\n",
    "from sklearn.preprocessing import LabelEncoder\n",
    "from sklearn.model_selection import train_test_split\n",
    "from sklearn.metrics import make_scorer, accuracy_score\n",
    "from sklearn.model_selection import StratifiedKFold\n",
    "from sklearn.utils.multiclass import type_of_target\n",
    "import tensorflow as tf\n",
    "from numpy import unique\n",
    "from numpy import reshape\n",
    "from tensorflow.keras.models import Sequential\n",
    "from sklearn.model_selection import cross_val_score\n",
    "from tensorflow.keras.layers import Input, Conv1D, Dense, Dropout, BatchNormalization, Flatten, MaxPooling1D\n",
    "from tensorflow.keras.utils import to_categorical\n",
    "from tensorflow.keras.optimizers import Adam, SGD, RMSprop, Adadelta, Adagrad, Adamax, Nadam, Ftrl\n",
    "from tensorflow.keras.callbacks import EarlyStopping, ModelCheckpoint\n",
    "from scikeras.wrappers import KerasClassifier  # Use scikeras for scikit-learn compatibility\n",
    "from math import floor\n",
    "from bayes_opt import BayesianOptimization\n",
    "from tensorflow.keras.layers import LeakyReLU  # Use tensorflow.keras instead of keras\n",
    "LeakyReLU = LeakyReLU(negative_slope=0.1)\n",
    "import warnings"
   ]
  },
  {
   "cell_type": "code",
   "execution_count": 47,
   "id": "ae4bf3bb-63ce-48d3-ba72-1c92401eb3d9",
   "metadata": {},
   "outputs": [],
   "source": [
    "# Create path variable for re-use when importing data\n",
    "path = r'C:\\Users\\sorca\\Documents\\3ML-2_4\\Task'"
   ]
  },
  {
   "cell_type": "code",
   "execution_count": 48,
   "id": "7749752a-b7bc-4107-96a0-29ef0272144e",
   "metadata": {},
   "outputs": [],
   "source": [
    "# Load climate dataframe\n",
    "df_climate = pd.read_csv(os.path.join(path,'Climate_cleaned.csv'), index_col = False)"
   ]
  },
  {
   "cell_type": "code",
   "execution_count": 49,
   "id": "b7371a56-eaac-41c8-a3ff-9550c48345ee",
   "metadata": {},
   "outputs": [
    {
     "data": {
      "text/html": [
       "<div>\n",
       "<style scoped>\n",
       "    .dataframe tbody tr th:only-of-type {\n",
       "        vertical-align: middle;\n",
       "    }\n",
       "\n",
       "    .dataframe tbody tr th {\n",
       "        vertical-align: top;\n",
       "    }\n",
       "\n",
       "    .dataframe thead th {\n",
       "        text-align: right;\n",
       "    }\n",
       "</style>\n",
       "<table border=\"1\" class=\"dataframe\">\n",
       "  <thead>\n",
       "    <tr style=\"text-align: right;\">\n",
       "      <th></th>\n",
       "      <th>BASEL_cloud_cover</th>\n",
       "      <th>BASEL_humidity</th>\n",
       "      <th>BASEL_pressure</th>\n",
       "      <th>BASEL_global_radiation</th>\n",
       "      <th>BASEL_precipitation</th>\n",
       "      <th>BASEL_sunshine</th>\n",
       "      <th>BASEL_temp_mean</th>\n",
       "      <th>BASEL_temp_min</th>\n",
       "      <th>BASEL_temp_max</th>\n",
       "      <th>BELGRADE_cloud_cover</th>\n",
       "      <th>...</th>\n",
       "      <th>STOCKHOLM_temp_max</th>\n",
       "      <th>VALENTIA_cloud_cover</th>\n",
       "      <th>VALENTIA_humidity</th>\n",
       "      <th>VALENTIA_pressure</th>\n",
       "      <th>VALENTIA_global_radiation</th>\n",
       "      <th>VALENTIA_precipitation</th>\n",
       "      <th>VALENTIA_sunshine</th>\n",
       "      <th>VALENTIA_temp_mean</th>\n",
       "      <th>VALENTIA_temp_min</th>\n",
       "      <th>VALENTIA_temp_max</th>\n",
       "    </tr>\n",
       "  </thead>\n",
       "  <tbody>\n",
       "    <tr>\n",
       "      <th>0</th>\n",
       "      <td>7</td>\n",
       "      <td>0.85</td>\n",
       "      <td>1.018</td>\n",
       "      <td>0.32</td>\n",
       "      <td>0.09</td>\n",
       "      <td>0.7</td>\n",
       "      <td>6.5</td>\n",
       "      <td>0.8</td>\n",
       "      <td>10.9</td>\n",
       "      <td>1</td>\n",
       "      <td>...</td>\n",
       "      <td>4.9</td>\n",
       "      <td>5</td>\n",
       "      <td>0.88</td>\n",
       "      <td>1.0003</td>\n",
       "      <td>0.45</td>\n",
       "      <td>0.34</td>\n",
       "      <td>4.7</td>\n",
       "      <td>8.5</td>\n",
       "      <td>6.0</td>\n",
       "      <td>10.9</td>\n",
       "    </tr>\n",
       "    <tr>\n",
       "      <th>1</th>\n",
       "      <td>6</td>\n",
       "      <td>0.84</td>\n",
       "      <td>1.018</td>\n",
       "      <td>0.36</td>\n",
       "      <td>1.05</td>\n",
       "      <td>1.1</td>\n",
       "      <td>6.1</td>\n",
       "      <td>3.3</td>\n",
       "      <td>10.1</td>\n",
       "      <td>6</td>\n",
       "      <td>...</td>\n",
       "      <td>5.0</td>\n",
       "      <td>7</td>\n",
       "      <td>0.91</td>\n",
       "      <td>1.0007</td>\n",
       "      <td>0.25</td>\n",
       "      <td>0.84</td>\n",
       "      <td>0.7</td>\n",
       "      <td>8.9</td>\n",
       "      <td>5.6</td>\n",
       "      <td>12.1</td>\n",
       "    </tr>\n",
       "    <tr>\n",
       "      <th>2</th>\n",
       "      <td>8</td>\n",
       "      <td>0.90</td>\n",
       "      <td>1.018</td>\n",
       "      <td>0.18</td>\n",
       "      <td>0.30</td>\n",
       "      <td>0.0</td>\n",
       "      <td>8.5</td>\n",
       "      <td>5.1</td>\n",
       "      <td>9.9</td>\n",
       "      <td>6</td>\n",
       "      <td>...</td>\n",
       "      <td>4.1</td>\n",
       "      <td>7</td>\n",
       "      <td>0.91</td>\n",
       "      <td>1.0096</td>\n",
       "      <td>0.17</td>\n",
       "      <td>0.08</td>\n",
       "      <td>0.1</td>\n",
       "      <td>10.5</td>\n",
       "      <td>8.1</td>\n",
       "      <td>12.9</td>\n",
       "    </tr>\n",
       "    <tr>\n",
       "      <th>3</th>\n",
       "      <td>3</td>\n",
       "      <td>0.92</td>\n",
       "      <td>1.018</td>\n",
       "      <td>0.58</td>\n",
       "      <td>0.00</td>\n",
       "      <td>4.1</td>\n",
       "      <td>6.3</td>\n",
       "      <td>3.8</td>\n",
       "      <td>10.6</td>\n",
       "      <td>8</td>\n",
       "      <td>...</td>\n",
       "      <td>2.3</td>\n",
       "      <td>7</td>\n",
       "      <td>0.86</td>\n",
       "      <td>1.0184</td>\n",
       "      <td>0.13</td>\n",
       "      <td>0.98</td>\n",
       "      <td>0.0</td>\n",
       "      <td>7.4</td>\n",
       "      <td>7.3</td>\n",
       "      <td>10.6</td>\n",
       "    </tr>\n",
       "    <tr>\n",
       "      <th>4</th>\n",
       "      <td>6</td>\n",
       "      <td>0.95</td>\n",
       "      <td>1.018</td>\n",
       "      <td>0.65</td>\n",
       "      <td>0.14</td>\n",
       "      <td>5.4</td>\n",
       "      <td>3.0</td>\n",
       "      <td>-0.7</td>\n",
       "      <td>6.0</td>\n",
       "      <td>8</td>\n",
       "      <td>...</td>\n",
       "      <td>4.3</td>\n",
       "      <td>3</td>\n",
       "      <td>0.80</td>\n",
       "      <td>1.0328</td>\n",
       "      <td>0.46</td>\n",
       "      <td>0.00</td>\n",
       "      <td>5.7</td>\n",
       "      <td>5.7</td>\n",
       "      <td>3.0</td>\n",
       "      <td>8.4</td>\n",
       "    </tr>\n",
       "  </tbody>\n",
       "</table>\n",
       "<p>5 rows × 135 columns</p>\n",
       "</div>"
      ],
      "text/plain": [
       "   BASEL_cloud_cover  BASEL_humidity  BASEL_pressure  BASEL_global_radiation  \\\n",
       "0                  7            0.85           1.018                    0.32   \n",
       "1                  6            0.84           1.018                    0.36   \n",
       "2                  8            0.90           1.018                    0.18   \n",
       "3                  3            0.92           1.018                    0.58   \n",
       "4                  6            0.95           1.018                    0.65   \n",
       "\n",
       "   BASEL_precipitation  BASEL_sunshine  BASEL_temp_mean  BASEL_temp_min  \\\n",
       "0                 0.09             0.7              6.5             0.8   \n",
       "1                 1.05             1.1              6.1             3.3   \n",
       "2                 0.30             0.0              8.5             5.1   \n",
       "3                 0.00             4.1              6.3             3.8   \n",
       "4                 0.14             5.4              3.0            -0.7   \n",
       "\n",
       "   BASEL_temp_max  BELGRADE_cloud_cover  ...  STOCKHOLM_temp_max  \\\n",
       "0            10.9                     1  ...                 4.9   \n",
       "1            10.1                     6  ...                 5.0   \n",
       "2             9.9                     6  ...                 4.1   \n",
       "3            10.6                     8  ...                 2.3   \n",
       "4             6.0                     8  ...                 4.3   \n",
       "\n",
       "   VALENTIA_cloud_cover  VALENTIA_humidity  VALENTIA_pressure  \\\n",
       "0                     5               0.88             1.0003   \n",
       "1                     7               0.91             1.0007   \n",
       "2                     7               0.91             1.0096   \n",
       "3                     7               0.86             1.0184   \n",
       "4                     3               0.80             1.0328   \n",
       "\n",
       "   VALENTIA_global_radiation  VALENTIA_precipitation  VALENTIA_sunshine  \\\n",
       "0                       0.45                    0.34                4.7   \n",
       "1                       0.25                    0.84                0.7   \n",
       "2                       0.17                    0.08                0.1   \n",
       "3                       0.13                    0.98                0.0   \n",
       "4                       0.46                    0.00                5.7   \n",
       "\n",
       "   VALENTIA_temp_mean  VALENTIA_temp_min  VALENTIA_temp_max  \n",
       "0                 8.5                6.0               10.9  \n",
       "1                 8.9                5.6               12.1  \n",
       "2                10.5                8.1               12.9  \n",
       "3                 7.4                7.3               10.6  \n",
       "4                 5.7                3.0                8.4  \n",
       "\n",
       "[5 rows x 135 columns]"
      ]
     },
     "execution_count": 49,
     "metadata": {},
     "output_type": "execute_result"
    }
   ],
   "source": [
    "df_climate.head()"
   ]
  },
  {
   "cell_type": "code",
   "execution_count": 50,
   "id": "901bbac5-f49a-4340-8479-8b166bc1963b",
   "metadata": {},
   "outputs": [
    {
     "data": {
      "text/plain": [
       "(22950, 135)"
      ]
     },
     "execution_count": 50,
     "metadata": {},
     "output_type": "execute_result"
    }
   ],
   "source": [
    "df_climate.shape"
   ]
  },
  {
   "cell_type": "code",
   "execution_count": 51,
   "id": "b9058e82-53f8-4487-9fe2-336df1be868a",
   "metadata": {},
   "outputs": [],
   "source": [
    "# Load \"pleasant\" dataframe\n",
    "df_pleasant = pd.read_csv(os.path.join(path,'Pleasant_cleaned.csv'), index_col = False)"
   ]
  },
  {
   "cell_type": "code",
   "execution_count": 52,
   "id": "2712cfc8-4ceb-4714-b81e-35996e3df92b",
   "metadata": {},
   "outputs": [
    {
     "data": {
      "text/html": [
       "<div>\n",
       "<style scoped>\n",
       "    .dataframe tbody tr th:only-of-type {\n",
       "        vertical-align: middle;\n",
       "    }\n",
       "\n",
       "    .dataframe tbody tr th {\n",
       "        vertical-align: top;\n",
       "    }\n",
       "\n",
       "    .dataframe thead th {\n",
       "        text-align: right;\n",
       "    }\n",
       "</style>\n",
       "<table border=\"1\" class=\"dataframe\">\n",
       "  <thead>\n",
       "    <tr style=\"text-align: right;\">\n",
       "      <th></th>\n",
       "      <th>BASEL_pleasant_weather</th>\n",
       "      <th>BELGRADE_pleasant_weather</th>\n",
       "      <th>BUDAPEST_pleasant_weather</th>\n",
       "      <th>DEBILT_pleasant_weather</th>\n",
       "      <th>DUSSELDORF_pleasant_weather</th>\n",
       "      <th>HEATHROW_pleasant_weather</th>\n",
       "      <th>KASSEL_pleasant_weather</th>\n",
       "      <th>LJUBLJANA_pleasant_weather</th>\n",
       "      <th>MAASTRICHT_pleasant_weather</th>\n",
       "      <th>MADRID_pleasant_weather</th>\n",
       "      <th>MUNCHENB_pleasant_weather</th>\n",
       "      <th>OSLO_pleasant_weather</th>\n",
       "      <th>SONNBLICK_pleasant_weather</th>\n",
       "      <th>STOCKHOLM_pleasant_weather</th>\n",
       "      <th>VALENTIA_pleasant_weather</th>\n",
       "    </tr>\n",
       "  </thead>\n",
       "  <tbody>\n",
       "    <tr>\n",
       "      <th>0</th>\n",
       "      <td>0</td>\n",
       "      <td>0</td>\n",
       "      <td>0</td>\n",
       "      <td>0</td>\n",
       "      <td>0</td>\n",
       "      <td>0</td>\n",
       "      <td>0</td>\n",
       "      <td>0</td>\n",
       "      <td>0</td>\n",
       "      <td>0</td>\n",
       "      <td>0</td>\n",
       "      <td>0</td>\n",
       "      <td>0</td>\n",
       "      <td>0</td>\n",
       "      <td>0</td>\n",
       "    </tr>\n",
       "    <tr>\n",
       "      <th>1</th>\n",
       "      <td>0</td>\n",
       "      <td>0</td>\n",
       "      <td>0</td>\n",
       "      <td>0</td>\n",
       "      <td>0</td>\n",
       "      <td>0</td>\n",
       "      <td>0</td>\n",
       "      <td>0</td>\n",
       "      <td>0</td>\n",
       "      <td>0</td>\n",
       "      <td>0</td>\n",
       "      <td>0</td>\n",
       "      <td>0</td>\n",
       "      <td>0</td>\n",
       "      <td>0</td>\n",
       "    </tr>\n",
       "    <tr>\n",
       "      <th>2</th>\n",
       "      <td>0</td>\n",
       "      <td>0</td>\n",
       "      <td>0</td>\n",
       "      <td>0</td>\n",
       "      <td>0</td>\n",
       "      <td>0</td>\n",
       "      <td>0</td>\n",
       "      <td>0</td>\n",
       "      <td>0</td>\n",
       "      <td>0</td>\n",
       "      <td>0</td>\n",
       "      <td>0</td>\n",
       "      <td>0</td>\n",
       "      <td>0</td>\n",
       "      <td>0</td>\n",
       "    </tr>\n",
       "    <tr>\n",
       "      <th>3</th>\n",
       "      <td>0</td>\n",
       "      <td>0</td>\n",
       "      <td>0</td>\n",
       "      <td>0</td>\n",
       "      <td>0</td>\n",
       "      <td>0</td>\n",
       "      <td>0</td>\n",
       "      <td>0</td>\n",
       "      <td>0</td>\n",
       "      <td>0</td>\n",
       "      <td>0</td>\n",
       "      <td>0</td>\n",
       "      <td>0</td>\n",
       "      <td>0</td>\n",
       "      <td>0</td>\n",
       "    </tr>\n",
       "    <tr>\n",
       "      <th>4</th>\n",
       "      <td>0</td>\n",
       "      <td>0</td>\n",
       "      <td>0</td>\n",
       "      <td>0</td>\n",
       "      <td>0</td>\n",
       "      <td>0</td>\n",
       "      <td>0</td>\n",
       "      <td>0</td>\n",
       "      <td>0</td>\n",
       "      <td>0</td>\n",
       "      <td>0</td>\n",
       "      <td>0</td>\n",
       "      <td>0</td>\n",
       "      <td>0</td>\n",
       "      <td>0</td>\n",
       "    </tr>\n",
       "  </tbody>\n",
       "</table>\n",
       "</div>"
      ],
      "text/plain": [
       "   BASEL_pleasant_weather  BELGRADE_pleasant_weather  \\\n",
       "0                       0                          0   \n",
       "1                       0                          0   \n",
       "2                       0                          0   \n",
       "3                       0                          0   \n",
       "4                       0                          0   \n",
       "\n",
       "   BUDAPEST_pleasant_weather  DEBILT_pleasant_weather  \\\n",
       "0                          0                        0   \n",
       "1                          0                        0   \n",
       "2                          0                        0   \n",
       "3                          0                        0   \n",
       "4                          0                        0   \n",
       "\n",
       "   DUSSELDORF_pleasant_weather  HEATHROW_pleasant_weather  \\\n",
       "0                            0                          0   \n",
       "1                            0                          0   \n",
       "2                            0                          0   \n",
       "3                            0                          0   \n",
       "4                            0                          0   \n",
       "\n",
       "   KASSEL_pleasant_weather  LJUBLJANA_pleasant_weather  \\\n",
       "0                        0                           0   \n",
       "1                        0                           0   \n",
       "2                        0                           0   \n",
       "3                        0                           0   \n",
       "4                        0                           0   \n",
       "\n",
       "   MAASTRICHT_pleasant_weather  MADRID_pleasant_weather  \\\n",
       "0                            0                        0   \n",
       "1                            0                        0   \n",
       "2                            0                        0   \n",
       "3                            0                        0   \n",
       "4                            0                        0   \n",
       "\n",
       "   MUNCHENB_pleasant_weather  OSLO_pleasant_weather  \\\n",
       "0                          0                      0   \n",
       "1                          0                      0   \n",
       "2                          0                      0   \n",
       "3                          0                      0   \n",
       "4                          0                      0   \n",
       "\n",
       "   SONNBLICK_pleasant_weather  STOCKHOLM_pleasant_weather  \\\n",
       "0                           0                           0   \n",
       "1                           0                           0   \n",
       "2                           0                           0   \n",
       "3                           0                           0   \n",
       "4                           0                           0   \n",
       "\n",
       "   VALENTIA_pleasant_weather  \n",
       "0                          0  \n",
       "1                          0  \n",
       "2                          0  \n",
       "3                          0  \n",
       "4                          0  "
      ]
     },
     "execution_count": 52,
     "metadata": {},
     "output_type": "execute_result"
    }
   ],
   "source": [
    "df_pleasant.head()"
   ]
  },
  {
   "cell_type": "code",
   "execution_count": 53,
   "id": "faaf57fd-ee77-427d-a818-ec8c1b7fa0f5",
   "metadata": {},
   "outputs": [
    {
     "data": {
      "text/plain": [
       "(22950, 15)"
      ]
     },
     "execution_count": 53,
     "metadata": {},
     "output_type": "execute_result"
    }
   ],
   "source": [
    "df_pleasant.shape"
   ]
  },
  {
   "cell_type": "markdown",
   "id": "d525d3b1-3e50-48bf-b4d9-4065f22445ca",
   "metadata": {},
   "source": [
    "### 2. Reshaping Data for Modeling"
   ]
  },
  {
   "cell_type": "code",
   "execution_count": 55,
   "id": "e64822b3-73e1-4783-948c-a57bb1ee0c86",
   "metadata": {},
   "outputs": [],
   "source": [
    "# Turn X and answers from a df to arrays\n",
    "\n",
    "X = np.array(df_climate)\n",
    "y = np.array(df_pleasant)"
   ]
  },
  {
   "cell_type": "code",
   "execution_count": 56,
   "id": "66b2e5f0-f685-4d50-bd5e-5b0de715a430",
   "metadata": {},
   "outputs": [],
   "source": [
    "X = X.reshape(-1,15,9)"
   ]
  },
  {
   "cell_type": "code",
   "execution_count": 57,
   "id": "ac94d02e-2c24-45f7-bc2a-4155ba72ebcc",
   "metadata": {},
   "outputs": [
    {
     "data": {
      "text/plain": [
       "(22950, 15, 9)"
      ]
     },
     "execution_count": 57,
     "metadata": {},
     "output_type": "execute_result"
    }
   ],
   "source": [
    "X.shape"
   ]
  },
  {
   "cell_type": "code",
   "execution_count": 58,
   "id": "14edd5f0-67bb-4117-9247-d67468469863",
   "metadata": {},
   "outputs": [],
   "source": [
    "# Use argmax to transform y\n",
    "\n",
    "y =  np.argmax(y, axis = 1)"
   ]
  },
  {
   "cell_type": "code",
   "execution_count": 59,
   "id": "1d711d13-d7bd-4994-90fe-a4cc9f3fcf09",
   "metadata": {},
   "outputs": [
    {
     "data": {
      "text/plain": [
       "(22950,)"
      ]
     },
     "execution_count": 59,
     "metadata": {},
     "output_type": "execute_result"
    }
   ],
   "source": [
    "y.shape"
   ]
  },
  {
   "cell_type": "code",
   "execution_count": 60,
   "id": "1c2ea786-2650-4010-9568-8ac5695e0383",
   "metadata": {},
   "outputs": [
    {
     "data": {
      "text/plain": [
       "'multiclass'"
      ]
     },
     "execution_count": 60,
     "metadata": {},
     "output_type": "execute_result"
    }
   ],
   "source": [
    "# Check y layout\n",
    "\n",
    "from sklearn.utils.multiclass import type_of_target\n",
    "type_of_target(y)"
   ]
  },
  {
   "cell_type": "markdown",
   "id": "0dba1760-928e-4a1f-9923-0cfb5fa4b26b",
   "metadata": {},
   "source": [
    "##### **Note**: The Bayesian optimization function only accepts y data in “multiclass”."
   ]
  },
  {
   "cell_type": "markdown",
   "id": "07a0d6fe-ee0b-4652-bdc6-29d88e3c11dc",
   "metadata": {},
   "source": [
    "### 3. Data Split "
   ]
  },
  {
   "cell_type": "code",
   "execution_count": 63,
   "id": "21da7060-d974-4e5b-941b-8f94c51b7ace",
   "metadata": {},
   "outputs": [],
   "source": [
    "# Split data into train and test sets\n",
    "\n",
    "X_train, X_test, y_train, y_test = train_test_split(X,y,random_state = 42)"
   ]
  },
  {
   "cell_type": "code",
   "execution_count": 64,
   "id": "3a93b413-6397-4401-bfcb-a3e4b62f4ca5",
   "metadata": {},
   "outputs": [
    {
     "name": "stdout",
     "output_type": "stream",
     "text": [
      "(17212, 15, 9) (17212,)\n",
      "(5738, 15, 9) (5738,)\n"
     ]
    }
   ],
   "source": [
    "print(X_train.shape, y_train.shape)\n",
    "print(X_test.shape, y_test.shape)"
   ]
  },
  {
   "cell_type": "markdown",
   "id": "ad6058e5-9581-4f0d-be93-6adc33f4e139",
   "metadata": {},
   "source": [
    "### 4. Bayesian Hyperparameter Optimization"
   ]
  },
  {
   "cell_type": "code",
   "execution_count": 66,
   "id": "37f8bf3c-74bc-475f-bf11-d841e722989c",
   "metadata": {},
   "outputs": [],
   "source": [
    "timesteps = len(X_train[0])\n",
    "input_dim = len(X_train[0][0])\n",
    "n_classes = 15 # Number of weather stations\n",
    "# Make scorer accuracy\n",
    "score_acc = make_scorer(accuracy_score)"
   ]
  },
  {
   "cell_type": "code",
   "execution_count": 67,
   "id": "0bf3e541-1483-4f98-b747-4c7f8e68632a",
   "metadata": {},
   "outputs": [
    {
     "name": "stdout",
     "output_type": "stream",
     "text": [
      "Number of classes: 14\n",
      "Classes: [ 0  1  2  3  4  5  6  7  8  9 10 11 13 14]\n",
      "Label range: 0 to 13\n",
      "Timesteps: 15\n",
      "Classes: 9\n"
     ]
    }
   ],
   "source": [
    "# First, let's properly encode the labels\n",
    "label_encoder = LabelEncoder()\n",
    "y_train_encoded = label_encoder.fit_transform(y_train)\n",
    "\n",
    "# Get the correct number of classes\n",
    "n_classes = len(label_encoder.classes_)\n",
    "print(f\"Number of classes: {n_classes}\")\n",
    "print(f\"Classes: {label_encoder.classes_}\")\n",
    "\n",
    "# Verify the new label range\n",
    "print(f\"Label range: {np.min(y_train_encoded)} to {np.max(y_train_encoded)}\")\n",
    "\n",
    "timesteps = X_train.shape[1]\n",
    "input_dim = X_train.shape[2]\n",
    "print(f\"Timesteps: {timesteps}\")\n",
    "print(f\"Classes: {input_dim}\")"
   ]
  },
  {
   "cell_type": "code",
   "execution_count": 68,
   "id": "a97402f9-985b-4dca-a771-6890e2d63c8f",
   "metadata": {},
   "outputs": [
    {
     "data": {
      "text/plain": [
       "(17212,)"
      ]
     },
     "execution_count": 68,
     "metadata": {},
     "output_type": "execute_result"
    }
   ],
   "source": [
    "y_train_encoded.shape"
   ]
  },
  {
   "cell_type": "code",
   "execution_count": 69,
   "id": "49fdbabf-5380-4f5f-ab91-8445b8cf4088",
   "metadata": {},
   "outputs": [],
   "source": [
    "# Create function\n",
    "def bay_area(neurons, activation, kernel, optimizer, learning_rate, batch_size, epochs,\n",
    "                            layers1, layers2, normalization, dropout, dropout_rate):\n",
    "\n",
    "    neurons = round(neurons)\n",
    "    activationL = ['relu', 'sigmoid', 'softplus', 'softsign', 'tanh', 'selu',\n",
    "                   'elu', 'exponential', LeakyReLU,'relu']\n",
    "    activation = activationL[round(activation)]\n",
    "    kernel = round(kernel)\n",
    "    optimizerL = ['SGD', 'Adam', 'RMSprop', 'Adadelta', 'Adagrad', 'Adamax', 'Nadam', 'Ftrl','SGD']\n",
    "    optimizer = optimizerL[round(optimizer)]\n",
    "    batch_size = round(batch_size)\n",
    "    epochs = round(epochs)\n",
    "    layers1 = round(layers1)\n",
    "    layers2 = round(layers2) \n",
    "\n",
    "# Create model\n",
    "    # def cnn_model():\n",
    "        # Create model\n",
    "    model = Sequential()\n",
    "    \n",
    "    # Add Conv1D layer\n",
    "    model.add(Conv1D(filters=int(neurons), \n",
    "                     kernel_size=int(kernel), \n",
    "                     activation=activation,\n",
    "                     input_shape=(timesteps, input_dim)))\n",
    "    \n",
    "    if normalization > 0.5:\n",
    "            model.add(BatchNormalization())\n",
    "    \n",
    "        # Add Dense layers (first block)\n",
    "    for _ in range(int(layers1)):\n",
    "            model.add(Dense(int(neurons), activation=activation))\n",
    "    \n",
    "    model.add(Dropout(dropout_rate))\n",
    "    \n",
    "        # Add Dense layers (second block)\n",
    "    for _ in range(int(layers2)):\n",
    "            model.add(Dense(int(neurons), activation=activation))\n",
    "    \n",
    "    model.add(MaxPooling1D())\n",
    "    model.add(Flatten())\n",
    "        # Ensure the output layer has the correct number of nodes\n",
    "    model.add(Dense(n_classes, activation='softmax'))\n",
    "    \n",
    "        # Compile model\n",
    "    model.compile(optimizer=optimizer,\n",
    "                 loss='sparse_categorical_crossentropy',\n",
    "                 metrics=['accuracy'])\n",
    "        # return model\n",
    " # The following lines of code were commented out because the cross validation is consistently come up with an error\n",
    "    # es = EarlyStopping(monitor='accuracy', mode='max', verbose=2, patience=20)\n",
    "    # nn = KerasClassifier(build_fn=cnn_model, epochs=epochs, batch_size=batch_size, verbose=2)\n",
    "  \n",
    "    # #score = cross_val_score(nn, X_train, y_train_encoded, scoring=score_acc, cv=kfold, fit_params={'callbacks':[es]}).mean()\n",
    "    # score = cross_val_score(estimator=nn, X=X_train, y=y_train_encoded, cv=5, fit_params={'sample_weight': weights}).mean()\n",
    "    # return score\n",
    "\n",
    "\n",
    "    # Define cross-validation strategy\n",
    "    kfold = StratifiedKFold(n_splits=5, shuffle=True, random_state=123)\n",
    "    scores = []\n",
    "    \n",
    "    # Perform cross-validation manually\n",
    "    for train_idx, val_idx in kfold.split(X_train, y_train_encoded):\n",
    "        X_train_fold, X_val_fold = X_train[train_idx], X_train[val_idx]\n",
    "        y_train_fold, y_val_fold = y_train_encoded[train_idx], y_train_encoded[val_idx]\n",
    "        \n",
    "        # Train the model\n",
    "        history = model.fit(X_train_fold, y_train_fold,\n",
    "                          batch_size=int(batch_size),\n",
    "                          epochs=10,\n",
    "                          validation_data=(X_val_fold, y_val_fold),\n",
    "                          verbose=0)\n",
    "        \n",
    "        # Get the best validation accuracy\n",
    "        val_acc = max(history.history['val_accuracy'])\n",
    "        scores.append(val_acc)\n",
    "    \n",
    "    return np.mean(scores)\n",
    "    \n",
    "def objective(neurons, activation, kernel, optimizer, learning_rate, batch_size, epochs,\n",
    "                            layers1, layers2, normalization, dropout, dropout_rate):\n",
    "    try:\n",
    "        return bay_area(\n",
    "            neurons=neurons,\n",
    "            activation=activation,\n",
    "            kernel=kernel,\n",
    "            optimizer=optimizer,\n",
    "            learning_rate=learning_rate,\n",
    "            batch_size=batch_size,\n",
    "            epochs=epochs,\n",
    "            layers1=layers1,\n",
    "            layers2=layers2,\n",
    "            normalization=normalization,\n",
    "            dropout=dropout,\n",
    "            dropout_rate=dropout_rate\n",
    "        )\n",
    "    except Exception as e:\n",
    "        print(f\"Error in model evaluation: {e}\")\n",
    "        return 0.0"
   ]
  },
  {
   "cell_type": "code",
   "execution_count": 70,
   "id": "7731d590-a7d0-49ab-b5de-2481f936bce7",
   "metadata": {},
   "outputs": [
    {
     "name": "stdout",
     "output_type": "stream",
     "text": [
      "|   iter    |  target   | activa... | batch_... |  dropout  | dropou... |  epochs   |  kernel   |  layers1  |  layers2  | learni... |  neurons  | normal... | optimizer |\n",
      "-------------------------------------------------------------------------------------------------------------------------------------------------------------------------\n"
     ]
    },
    {
     "name": "stderr",
     "output_type": "stream",
     "text": [
      "C:\\Users\\sorca\\anaconda3\\Lib\\site-packages\\keras\\src\\layers\\convolutional\\base_conv.py:107: UserWarning: Do not pass an `input_shape`/`input_dim` argument to a layer. When using Sequential models, prefer using an `Input(shape)` object as the first layer in the model instead.\n",
      "  super().__init__(activity_regularizer=activity_regularizer, **kwargs)\n"
     ]
    },
    {
     "name": "stdout",
     "output_type": "stream",
     "text": [
      "| \u001b[39m1        \u001b[39m | \u001b[39m0.644    \u001b[39m | \u001b[39m3.371    \u001b[39m | \u001b[39m960.6    \u001b[39m | \u001b[39m0.732    \u001b[39m | \u001b[39m0.1796   \u001b[39m | \u001b[39m24.68    \u001b[39m | \u001b[39m2.468    \u001b[39m | \u001b[39m1.116    \u001b[39m | \u001b[39m2.732    \u001b[39m | \u001b[39m0.6051   \u001b[39m | \u001b[39m73.73    \u001b[39m | \u001b[39m0.02058  \u001b[39m | \u001b[39m6.789    \u001b[39m |\n"
     ]
    },
    {
     "name": "stderr",
     "output_type": "stream",
     "text": [
      "C:\\Users\\sorca\\anaconda3\\Lib\\site-packages\\keras\\src\\layers\\convolutional\\base_conv.py:107: UserWarning: Do not pass an `input_shape`/`input_dim` argument to a layer. When using Sequential models, prefer using an `Input(shape)` object as the first layer in the model instead.\n",
      "  super().__init__(activity_regularizer=activity_regularizer, **kwargs)\n"
     ]
    },
    {
     "name": "stdout",
     "output_type": "stream",
     "text": [
      "| \u001b[39m2        \u001b[39m | \u001b[39m0.644    \u001b[39m | \u001b[39m7.492    \u001b[39m | \u001b[39m369.9    \u001b[39m | \u001b[39m0.1818   \u001b[39m | \u001b[39m0.05502  \u001b[39m | \u001b[39m29.13    \u001b[39m | \u001b[39m3.574    \u001b[39m | \u001b[39m1.864    \u001b[39m | \u001b[39m1.582    \u001b[39m | \u001b[39m0.6157   \u001b[39m | \u001b[39m22.55    \u001b[39m | \u001b[39m0.2921   \u001b[39m | \u001b[39m2.565    \u001b[39m |\n"
     ]
    },
    {
     "name": "stderr",
     "output_type": "stream",
     "text": [
      "C:\\Users\\sorca\\anaconda3\\Lib\\site-packages\\keras\\src\\layers\\convolutional\\base_conv.py:107: UserWarning: Do not pass an `input_shape`/`input_dim` argument to a layer. When using Sequential models, prefer using an `Input(shape)` object as the first layer in the model instead.\n",
      "  super().__init__(activity_regularizer=activity_regularizer, **kwargs)\n"
     ]
    },
    {
     "name": "stdout",
     "output_type": "stream",
     "text": [
      "| \u001b[35m3        \u001b[39m | \u001b[35m0.884    \u001b[39m | \u001b[35m7.743    \u001b[39m | \u001b[35m200.7    \u001b[39m | \u001b[35m0.2745   \u001b[39m | \u001b[35m0.1308   \u001b[39m | \u001b[35m37.78    \u001b[39m | \u001b[35m4.987    \u001b[39m | \u001b[35m2.279    \u001b[39m | \u001b[35m1.763    \u001b[39m | \u001b[35m0.7276   \u001b[39m | \u001b[35m98.57    \u001b[39m | \u001b[35m0.6113   \u001b[39m | \u001b[35m2.462    \u001b[39m |\n"
     ]
    },
    {
     "name": "stderr",
     "output_type": "stream",
     "text": [
      "C:\\Users\\sorca\\anaconda3\\Lib\\site-packages\\keras\\src\\layers\\convolutional\\base_conv.py:107: UserWarning: Do not pass an `input_shape`/`input_dim` argument to a layer. When using Sequential models, prefer using an `Input(shape)` object as the first layer in the model instead.\n",
      "  super().__init__(activity_regularizer=activity_regularizer, **kwargs)\n"
     ]
    },
    {
     "name": "stdout",
     "output_type": "stream",
     "text": [
      "| \u001b[35m4        \u001b[39m | \u001b[35m0.9044   \u001b[39m | \u001b[35m3.518    \u001b[39m | \u001b[35m207.1    \u001b[39m | \u001b[35m0.6375   \u001b[39m | \u001b[35m0.2934   \u001b[39m | \u001b[35m34.61    \u001b[39m | \u001b[35m4.063    \u001b[39m | \u001b[35m2.055    \u001b[39m | \u001b[35m1.475    \u001b[39m | \u001b[35m0.3469   \u001b[39m | \u001b[35m96.45    \u001b[39m | \u001b[35m0.5952   \u001b[39m | \u001b[35m1.315    \u001b[39m |\n"
     ]
    },
    {
     "name": "stderr",
     "output_type": "stream",
     "text": [
      "C:\\Users\\sorca\\anaconda3\\Lib\\site-packages\\keras\\src\\layers\\convolutional\\base_conv.py:107: UserWarning: Do not pass an `input_shape`/`input_dim` argument to a layer. When using Sequential models, prefer using an `Input(shape)` object as the first layer in the model instead.\n",
      "  super().__init__(activity_regularizer=activity_regularizer, **kwargs)\n"
     ]
    },
    {
     "name": "stdout",
     "output_type": "stream",
     "text": [
      "| \u001b[39m5        \u001b[39m | \u001b[39m0.7684   \u001b[39m | \u001b[39m4.743    \u001b[39m | \u001b[39m210.7    \u001b[39m | \u001b[39m0.65     \u001b[39m | \u001b[39m0.1065   \u001b[39m | \u001b[39m36.98    \u001b[39m | \u001b[39m3.988    \u001b[39m | \u001b[39m1.729    \u001b[39m | \u001b[39m1.752    \u001b[39m | \u001b[39m0.5526   \u001b[39m | \u001b[39m96.82    \u001b[39m | \u001b[39m0.1589   \u001b[39m | \u001b[39m3.903    \u001b[39m |\n"
     ]
    },
    {
     "name": "stderr",
     "output_type": "stream",
     "text": [
      "C:\\Users\\sorca\\anaconda3\\Lib\\site-packages\\keras\\src\\layers\\convolutional\\base_conv.py:107: UserWarning: Do not pass an `input_shape`/`input_dim` argument to a layer. When using Sequential models, prefer using an `Input(shape)` object as the first layer in the model instead.\n",
      "  super().__init__(activity_regularizer=activity_regularizer, **kwargs)\n"
     ]
    },
    {
     "name": "stdout",
     "output_type": "stream",
     "text": [
      "| \u001b[39m6        \u001b[39m | \u001b[39m0.6509   \u001b[39m | \u001b[39m8.061    \u001b[39m | \u001b[39m284.9    \u001b[39m | \u001b[39m0.2172   \u001b[39m | \u001b[39m0.1102   \u001b[39m | \u001b[39m28.33    \u001b[39m | \u001b[39m3.792    \u001b[39m | \u001b[39m1.198    \u001b[39m | \u001b[39m2.732    \u001b[39m | \u001b[39m0.5165   \u001b[39m | \u001b[39m11.69    \u001b[39m | \u001b[39m0.7689   \u001b[39m | \u001b[39m3.857    \u001b[39m |\n"
     ]
    },
    {
     "name": "stderr",
     "output_type": "stream",
     "text": [
      "C:\\Users\\sorca\\anaconda3\\Lib\\site-packages\\keras\\src\\layers\\convolutional\\base_conv.py:107: UserWarning: Do not pass an `input_shape`/`input_dim` argument to a layer. When using Sequential models, prefer using an `Input(shape)` object as the first layer in the model instead.\n",
      "  super().__init__(activity_regularizer=activity_regularizer, **kwargs)\n"
     ]
    },
    {
     "name": "stdout",
     "output_type": "stream",
     "text": [
      "| \u001b[39m7        \u001b[39m | \u001b[39m0.644    \u001b[39m | \u001b[39m6.882    \u001b[39m | \u001b[39m201.2    \u001b[39m | \u001b[39m0.8145   \u001b[39m | \u001b[39m0.106    \u001b[39m | \u001b[39m28.92    \u001b[39m | \u001b[39m3.781    \u001b[39m | \u001b[39m2.777    \u001b[39m | \u001b[39m2.834    \u001b[39m | \u001b[39m0.5996   \u001b[39m | \u001b[39m97.19    \u001b[39m | \u001b[39m0.3403   \u001b[39m | \u001b[39m1.804    \u001b[39m |\n"
     ]
    },
    {
     "name": "stderr",
     "output_type": "stream",
     "text": [
      "C:\\Users\\sorca\\anaconda3\\Lib\\site-packages\\keras\\src\\layers\\convolutional\\base_conv.py:107: UserWarning: Do not pass an `input_shape`/`input_dim` argument to a layer. When using Sequential models, prefer using an `Input(shape)` object as the first layer in the model instead.\n",
      "  super().__init__(activity_regularizer=activity_regularizer, **kwargs)\n"
     ]
    },
    {
     "name": "stdout",
     "output_type": "stream",
     "text": [
      "| \u001b[35m8        \u001b[39m | \u001b[35m0.9057   \u001b[39m | \u001b[35m4.64     \u001b[39m | \u001b[35m209.2    \u001b[39m | \u001b[35m0.7793   \u001b[39m | \u001b[35m0.09358  \u001b[39m | \u001b[35m31.98    \u001b[39m | \u001b[35m4.992    \u001b[39m | \u001b[35m2.59     \u001b[39m | \u001b[35m1.042    \u001b[39m | \u001b[35m0.1755   \u001b[39m | \u001b[35m98.52    \u001b[39m | \u001b[35m0.8767   \u001b[39m | \u001b[35m0.6055   \u001b[39m |\n"
     ]
    },
    {
     "name": "stderr",
     "output_type": "stream",
     "text": [
      "C:\\Users\\sorca\\anaconda3\\Lib\\site-packages\\keras\\src\\layers\\convolutional\\base_conv.py:107: UserWarning: Do not pass an `input_shape`/`input_dim` argument to a layer. When using Sequential models, prefer using an `Input(shape)` object as the first layer in the model instead.\n",
      "  super().__init__(activity_regularizer=activity_regularizer, **kwargs)\n"
     ]
    },
    {
     "name": "stdout",
     "output_type": "stream",
     "text": [
      "| \u001b[39m9        \u001b[39m | \u001b[39m0.644    \u001b[39m | \u001b[39m7.005    \u001b[39m | \u001b[39m209.7    \u001b[39m | \u001b[39m0.1762   \u001b[39m | \u001b[39m0.08439  \u001b[39m | \u001b[39m34.25    \u001b[39m | \u001b[39m2.009    \u001b[39m | \u001b[39m2.865    \u001b[39m | \u001b[39m2.825    \u001b[39m | \u001b[39m0.8463   \u001b[39m | \u001b[39m96.3     \u001b[39m | \u001b[39m0.9258   \u001b[39m | \u001b[39m0.3353   \u001b[39m |\n"
     ]
    },
    {
     "name": "stderr",
     "output_type": "stream",
     "text": [
      "C:\\Users\\sorca\\anaconda3\\Lib\\site-packages\\keras\\src\\layers\\convolutional\\base_conv.py:107: UserWarning: Do not pass an `input_shape`/`input_dim` argument to a layer. When using Sequential models, prefer using an `Input(shape)` object as the first layer in the model instead.\n",
      "  super().__init__(activity_regularizer=activity_regularizer, **kwargs)\n"
     ]
    },
    {
     "name": "stdout",
     "output_type": "stream",
     "text": [
      "| \u001b[39m10       \u001b[39m | \u001b[39m0.8042   \u001b[39m | \u001b[39m0.8395   \u001b[39m | \u001b[39m206.4    \u001b[39m | \u001b[39m0.5857   \u001b[39m | \u001b[39m0.1096   \u001b[39m | \u001b[39m40.41    \u001b[39m | \u001b[39m4.28     \u001b[39m | \u001b[39m2.938    \u001b[39m | \u001b[39m1.902    \u001b[39m | \u001b[39m0.0143   \u001b[39m | \u001b[39m96.87    \u001b[39m | \u001b[39m0.9059   \u001b[39m | \u001b[39m2.137    \u001b[39m |\n"
     ]
    },
    {
     "name": "stderr",
     "output_type": "stream",
     "text": [
      "C:\\Users\\sorca\\anaconda3\\Lib\\site-packages\\keras\\src\\layers\\convolutional\\base_conv.py:107: UserWarning: Do not pass an `input_shape`/`input_dim` argument to a layer. When using Sequential models, prefer using an `Input(shape)` object as the first layer in the model instead.\n",
      "  super().__init__(activity_regularizer=activity_regularizer, **kwargs)\n"
     ]
    },
    {
     "name": "stdout",
     "output_type": "stream",
     "text": [
      "| \u001b[39m11       \u001b[39m | \u001b[39m0.6232   \u001b[39m | \u001b[39m5.548    \u001b[39m | \u001b[39m206.5    \u001b[39m | \u001b[39m0.8854   \u001b[39m | \u001b[39m0.2124   \u001b[39m | \u001b[39m40.59    \u001b[39m | \u001b[39m4.94     \u001b[39m | \u001b[39m1.933    \u001b[39m | \u001b[39m1.833    \u001b[39m | \u001b[39m0.04268  \u001b[39m | \u001b[39m95.66    \u001b[39m | \u001b[39m0.09656  \u001b[39m | \u001b[39m2.529    \u001b[39m |\n"
     ]
    },
    {
     "name": "stderr",
     "output_type": "stream",
     "text": [
      "C:\\Users\\sorca\\anaconda3\\Lib\\site-packages\\keras\\src\\layers\\convolutional\\base_conv.py:107: UserWarning: Do not pass an `input_shape`/`input_dim` argument to a layer. When using Sequential models, prefer using an `Input(shape)` object as the first layer in the model instead.\n",
      "  super().__init__(activity_regularizer=activity_regularizer, **kwargs)\n"
     ]
    },
    {
     "name": "stdout",
     "output_type": "stream",
     "text": [
      "| \u001b[39m12       \u001b[39m | \u001b[39m0.835    \u001b[39m | \u001b[39m2.683    \u001b[39m | \u001b[39m205.8    \u001b[39m | \u001b[39m0.4737   \u001b[39m | \u001b[39m0.05866  \u001b[39m | \u001b[39m36.05    \u001b[39m | \u001b[39m2.669    \u001b[39m | \u001b[39m1.58     \u001b[39m | \u001b[39m1.833    \u001b[39m | \u001b[39m0.9909   \u001b[39m | \u001b[39m96.33    \u001b[39m | \u001b[39m0.46     \u001b[39m | \u001b[39m4.713    \u001b[39m |\n"
     ]
    },
    {
     "name": "stderr",
     "output_type": "stream",
     "text": [
      "C:\\Users\\sorca\\anaconda3\\Lib\\site-packages\\keras\\src\\layers\\convolutional\\base_conv.py:107: UserWarning: Do not pass an `input_shape`/`input_dim` argument to a layer. When using Sequential models, prefer using an `Input(shape)` object as the first layer in the model instead.\n",
      "  super().__init__(activity_regularizer=activity_regularizer, **kwargs)\n"
     ]
    },
    {
     "name": "stdout",
     "output_type": "stream",
     "text": [
      "| \u001b[35m13       \u001b[39m | \u001b[35m0.9213   \u001b[39m | \u001b[35m8.574    \u001b[39m | \u001b[35m203.8    \u001b[39m | \u001b[35m0.3597   \u001b[39m | \u001b[35m0.1311   \u001b[39m | \u001b[35m35.54    \u001b[39m | \u001b[35m2.391    \u001b[39m | \u001b[35m2.058    \u001b[39m | \u001b[35m1.129    \u001b[39m | \u001b[35m0.2665   \u001b[39m | \u001b[35m99.12    \u001b[39m | \u001b[35m0.8224   \u001b[39m | \u001b[35m2.143    \u001b[39m |\n"
     ]
    },
    {
     "name": "stderr",
     "output_type": "stream",
     "text": [
      "C:\\Users\\sorca\\anaconda3\\Lib\\site-packages\\keras\\src\\layers\\convolutional\\base_conv.py:107: UserWarning: Do not pass an `input_shape`/`input_dim` argument to a layer. When using Sequential models, prefer using an `Input(shape)` object as the first layer in the model instead.\n",
      "  super().__init__(activity_regularizer=activity_regularizer, **kwargs)\n"
     ]
    },
    {
     "name": "stdout",
     "output_type": "stream",
     "text": [
      "| \u001b[39m14       \u001b[39m | \u001b[39m0.5764   \u001b[39m | \u001b[39m7.73     \u001b[39m | \u001b[39m203.9    \u001b[39m | \u001b[39m0.7237   \u001b[39m | \u001b[39m0.0316   \u001b[39m | \u001b[39m36.75    \u001b[39m | \u001b[39m2.66     \u001b[39m | \u001b[39m2.132    \u001b[39m | \u001b[39m2.851    \u001b[39m | \u001b[39m0.4868   \u001b[39m | \u001b[39m94.97    \u001b[39m | \u001b[39m0.8837   \u001b[39m | \u001b[39m3.464    \u001b[39m |\n"
     ]
    },
    {
     "name": "stderr",
     "output_type": "stream",
     "text": [
      "C:\\Users\\sorca\\anaconda3\\Lib\\site-packages\\keras\\src\\layers\\convolutional\\base_conv.py:107: UserWarning: Do not pass an `input_shape`/`input_dim` argument to a layer. When using Sequential models, prefer using an `Input(shape)` object as the first layer in the model instead.\n",
      "  super().__init__(activity_regularizer=activity_regularizer, **kwargs)\n"
     ]
    },
    {
     "name": "stdout",
     "output_type": "stream",
     "text": [
      "| \u001b[39m15       \u001b[39m | \u001b[39m0.7345   \u001b[39m | \u001b[39m0.4992   \u001b[39m | \u001b[39m205.6    \u001b[39m | \u001b[39m0.6861   \u001b[39m | \u001b[39m0.2889   \u001b[39m | \u001b[39m40.56    \u001b[39m | \u001b[39m3.571    \u001b[39m | \u001b[39m1.308    \u001b[39m | \u001b[39m1.523    \u001b[39m | \u001b[39m0.2545   \u001b[39m | \u001b[39m98.73    \u001b[39m | \u001b[39m0.1117   \u001b[39m | \u001b[39m3.814    \u001b[39m |\n"
     ]
    },
    {
     "name": "stderr",
     "output_type": "stream",
     "text": [
      "C:\\Users\\sorca\\anaconda3\\Lib\\site-packages\\keras\\src\\layers\\convolutional\\base_conv.py:107: UserWarning: Do not pass an `input_shape`/`input_dim` argument to a layer. When using Sequential models, prefer using an `Input(shape)` object as the first layer in the model instead.\n",
      "  super().__init__(activity_regularizer=activity_regularizer, **kwargs)\n"
     ]
    },
    {
     "name": "stdout",
     "output_type": "stream",
     "text": [
      "| \u001b[39m16       \u001b[39m | \u001b[39m0.6624   \u001b[39m | \u001b[39m4.697    \u001b[39m | \u001b[39m200.8    \u001b[39m | \u001b[39m0.6473   \u001b[39m | \u001b[39m0.06482  \u001b[39m | \u001b[39m40.98    \u001b[39m | \u001b[39m2.715    \u001b[39m | \u001b[39m2.975    \u001b[39m | \u001b[39m2.154    \u001b[39m | \u001b[39m0.9745   \u001b[39m | \u001b[39m99.52    \u001b[39m | \u001b[39m0.3674   \u001b[39m | \u001b[39m3.29     \u001b[39m |\n",
      "=========================================================================================================================================================================\n",
      "Optimization took 9.35 minutes\n",
      "\n",
      "Best result: {'target': 0.9212804317474366, 'params': {'activation': 8.573725158270095, 'batch_size': 203.7843083366213, 'dropout': 0.3596828620945355, 'dropout_rate': 0.13106954502209853, 'epochs': 35.54009397985233, 'kernel': 2.391380993551486, 'layers1': 2.058084471812772, 'layers2': 1.1286824172695762, 'learning_rate': 0.26647435930571156, 'neurons': 99.11675828727839, 'normalization': 0.8224295254451733, 'optimizer': 2.143004695311215}}\n",
      "\n",
      "Best parameters:\n",
      "activation: 8.573725158270095\n",
      "batch_size: 203.7843083366213\n",
      "dropout: 0.3596828620945355\n",
      "dropout_rate: 0.13106954502209853\n",
      "epochs: 35.54009397985233\n",
      "kernel: 2.391380993551486\n",
      "layers1: 2.058084471812772\n",
      "layers2: 1.1286824172695762\n",
      "learning_rate: 0.26647435930571156\n",
      "neurons: 99.11675828727839\n",
      "normalization: 0.8224295254451733\n",
      "optimizer: 2.143004695311215\n"
     ]
    }
   ],
   "source": [
    "# Define the parameter space\n",
    "pbounds = {\n",
    "    'neurons': (10, 100),\n",
    "    'activation':(0, 9),    \n",
    "    'kernel': (2, 5),\n",
    "    'optimizer':(0,7),\n",
    "    'learning_rate': (0.01, 1),\n",
    "    'batch_size': (200, 1000),\n",
    "    'epochs':(20, 50),    \n",
    "    'layers1': (1, 3),\n",
    "    'layers2': (1, 3),\n",
    "    'normalization':(0,1),\n",
    "    'dropout':(0,1),\n",
    "    'dropout_rate': (0, 0.3)\n",
    "}\n",
    "\n",
    "# Initialize and run the optimization\n",
    "optimizer = BayesianOptimization(\n",
    "    f=objective,\n",
    "    pbounds=pbounds,\n",
    "    random_state=42,\n",
    "    verbose=2\n",
    ")\n",
    "\n",
    "# Start optimization\n",
    "start_time = time.time()\n",
    "\n",
    "try:\n",
    "    optimizer.maximize(\n",
    "        init_points=2,\n",
    "        n_iter=14\n",
    "    )\n",
    "except Exception as e:\n",
    "    print(f\"Optimization failed with error: {e}\")\n",
    "\n",
    "print(f\"Optimization took {(time.time() - start_time)/60:.2f} minutes\")\n",
    "\n",
    "# Print best results\n",
    "if optimizer.max is not None:\n",
    "    print(\"\\nBest result:\", optimizer.max)\n",
    "    print(\"\\nBest parameters:\")\n",
    "    for key, value in optimizer.max['params'].items():\n",
    "        print(f\"{key}: {value}\")\n",
    "\n",
    "# To convert predictions back to original labels later:\n",
    "# original_labels = label_encoder.inverse_transform(predictions)"
   ]
  },
  {
   "cell_type": "code",
   "execution_count": 71,
   "id": "9823844e-d51d-466d-bbd5-6bbb03519dba",
   "metadata": {},
   "outputs": [
    {
     "data": {
      "text/plain": [
       "{'activation': 'relu',\n",
       " 'batch_size': 204,\n",
       " 'dropout': 0.3596828620945355,\n",
       " 'dropout_rate': 0.13106954502209853,\n",
       " 'epochs': 36,\n",
       " 'kernel': 2.391380993551486,\n",
       " 'layers1': 2,\n",
       " 'layers2': 1,\n",
       " 'learning_rate': 0.26647435930571156,\n",
       " 'neurons': 99,\n",
       " 'normalization': 0.8224295254451733,\n",
       " 'optimizer': <keras.src.optimizers.rmsprop.RMSprop at 0x23618429460>}"
      ]
     },
     "execution_count": 71,
     "metadata": {},
     "output_type": "execute_result"
    }
   ],
   "source": [
    "optimum = optimizer.max['params']\n",
    "learning_rate = optimum['learning_rate']\n",
    "\n",
    "activationL = ['relu', 'sigmoid', 'softplus', 'softsign', 'tanh', 'selu', 'elu', 'exponential', LeakyReLU, 'relu']\n",
    "optimum['activation'] = activationL[round(optimum['activation'])]\n",
    "\n",
    "optimum['batch_size'] = round(optimum['batch_size'])\n",
    "optimum['epochs'] = round(optimum['epochs'])\n",
    "optimum['layers1'] = round(optimum['layers1'])\n",
    "optimum['layers2'] = round(optimum['layers2'])\n",
    "optimum['neurons'] = round(optimum['neurons'])\n",
    "\n",
    "optimizerL = ['Adam', 'SGD', 'RMSprop', 'Adadelta', 'Adagrad', 'Adamax', 'Nadam', 'Ftrl', 'Adam']\n",
    "optimizerD = {\n",
    "    'Adam': Adam(learning_rate=learning_rate),\n",
    "    'SGD': SGD(learning_rate=learning_rate),\n",
    "    'RMSprop': RMSprop(learning_rate=learning_rate),\n",
    "    'Adadelta': Adadelta(learning_rate=learning_rate),\n",
    "    'Adagrad': Adagrad(learning_rate=learning_rate),\n",
    "    'Adamax': Adamax(learning_rate=learning_rate),\n",
    "    'Nadam': Nadam(learning_rate=learning_rate),\n",
    "    'Ftrl': Ftrl(learning_rate=learning_rate)\n",
    "}\n",
    "optimum['optimizer'] = optimizerD[optimizerL[round(optimum['optimizer'])]]\n",
    "optimum"
   ]
  },
  {
   "cell_type": "markdown",
   "id": "490f86e2-b9b3-4a51-8214-088c6557a3aa",
   "metadata": {},
   "source": [
    "### 5. Running the Model with Optimized Hyperparameters"
   ]
  },
  {
   "cell_type": "code",
   "execution_count": 82,
   "id": "5c565b3c-7593-4520-8adc-5d63f27d5d12",
   "metadata": {},
   "outputs": [],
   "source": [
    "# Set the model with optimized hyperparameters\n",
    "\n",
    "epochs = optimum['epochs']\n",
    "batch_size = optimum['batch_size']\n",
    "\n",
    "timesteps = len(X_train[0])  \n",
    "input_dim = len(X_train[0][0])\n",
    "n_classes = 15\n",
    "\n",
    "layers1 = optimum['layers1']\n",
    "layers2 = optimum['layers2']\n",
    "activation = optimum['activation']\n",
    "kernel = int(round(optimum['kernel']))  \n",
    "neurons = optimum['neurons']\n",
    "normalization = optimum['normalization']  \n",
    "dropout = optimum['dropout']  \n",
    "dropout_rate = optimum['dropout_rate']  \n",
    "optimizer = RMSprop(optimum['learning_rate'])  \n",
    "\n",
    "model = Sequential()\n",
    "model.add(Conv1D(neurons, kernel_size=kernel, activation=activation, input_shape=(timesteps, input_dim)))\n",
    "\n",
    "if normalization > 0.5:\n",
    "    model.add(BatchNormalization())\n",
    "\n",
    "for i in range(layers1):\n",
    "    model.add(Dense(neurons, activation=activation))\n",
    "\n",
    "if dropout > 0.5:\n",
    "    model.add(Dropout(dropout_rate))\n",
    "\n",
    "# Add second set of dense layers\n",
    "for i in range(layers2):\n",
    "    model.add(Dense(neurons, activation=activation))\n",
    "\n",
    "model.add(MaxPooling1D())  # Max-pooling layer to downsample the data\n",
    "model.add(Flatten())  # Flatten for the dense layers\n",
    "model.add(Dense(n_classes, activation='softmax'))  # Output layer for classification\n",
    "\n",
    "# Compile the model with specified loss and optimizer\n",
    "model.compile(loss='sparse_categorical_crossentropy', optimizer=optimizer, metrics=['accuracy'])"
   ]
  },
  {
   "cell_type": "code",
   "execution_count": 84,
   "id": "effccd10-7f71-407a-a9bf-467b55bfac83",
   "metadata": {},
   "outputs": [
    {
     "data": {
      "text/html": [
       "<pre style=\"white-space:pre;overflow-x:auto;line-height:normal;font-family:Menlo,'DejaVu Sans Mono',consolas,'Courier New',monospace\"><span style=\"font-weight: bold\">Model: \"sequential_17\"</span>\n",
       "</pre>\n"
      ],
      "text/plain": [
       "\u001b[1mModel: \"sequential_17\"\u001b[0m\n"
      ]
     },
     "metadata": {},
     "output_type": "display_data"
    },
    {
     "data": {
      "text/html": [
       "<pre style=\"white-space:pre;overflow-x:auto;line-height:normal;font-family:Menlo,'DejaVu Sans Mono',consolas,'Courier New',monospace\">┏━━━━━━━━━━━━━━━━━━━━━━━━━━━━━━━━━┳━━━━━━━━━━━━━━━━━━━━━━━━┳━━━━━━━━━━━━━━━┓\n",
       "┃<span style=\"font-weight: bold\"> Layer (type)                    </span>┃<span style=\"font-weight: bold\"> Output Shape           </span>┃<span style=\"font-weight: bold\">       Param # </span>┃\n",
       "┡━━━━━━━━━━━━━━━━━━━━━━━━━━━━━━━━━╇━━━━━━━━━━━━━━━━━━━━━━━━╇━━━━━━━━━━━━━━━┩\n",
       "│ conv1d_17 (<span style=\"color: #0087ff; text-decoration-color: #0087ff\">Conv1D</span>)              │ (<span style=\"color: #00d7ff; text-decoration-color: #00d7ff\">None</span>, <span style=\"color: #00af00; text-decoration-color: #00af00\">14</span>, <span style=\"color: #00af00; text-decoration-color: #00af00\">99</span>)         │         <span style=\"color: #00af00; text-decoration-color: #00af00\">1,881</span> │\n",
       "├─────────────────────────────────┼────────────────────────┼───────────────┤\n",
       "│ batch_normalization_9           │ (<span style=\"color: #00d7ff; text-decoration-color: #00d7ff\">None</span>, <span style=\"color: #00af00; text-decoration-color: #00af00\">14</span>, <span style=\"color: #00af00; text-decoration-color: #00af00\">99</span>)         │           <span style=\"color: #00af00; text-decoration-color: #00af00\">396</span> │\n",
       "│ (<span style=\"color: #0087ff; text-decoration-color: #0087ff\">BatchNormalization</span>)            │                        │               │\n",
       "├─────────────────────────────────┼────────────────────────┼───────────────┤\n",
       "│ dense_88 (<span style=\"color: #0087ff; text-decoration-color: #0087ff\">Dense</span>)                │ (<span style=\"color: #00d7ff; text-decoration-color: #00d7ff\">None</span>, <span style=\"color: #00af00; text-decoration-color: #00af00\">14</span>, <span style=\"color: #00af00; text-decoration-color: #00af00\">99</span>)         │         <span style=\"color: #00af00; text-decoration-color: #00af00\">9,900</span> │\n",
       "├─────────────────────────────────┼────────────────────────┼───────────────┤\n",
       "│ dense_89 (<span style=\"color: #0087ff; text-decoration-color: #0087ff\">Dense</span>)                │ (<span style=\"color: #00d7ff; text-decoration-color: #00d7ff\">None</span>, <span style=\"color: #00af00; text-decoration-color: #00af00\">14</span>, <span style=\"color: #00af00; text-decoration-color: #00af00\">99</span>)         │         <span style=\"color: #00af00; text-decoration-color: #00af00\">9,900</span> │\n",
       "├─────────────────────────────────┼────────────────────────┼───────────────┤\n",
       "│ dense_90 (<span style=\"color: #0087ff; text-decoration-color: #0087ff\">Dense</span>)                │ (<span style=\"color: #00d7ff; text-decoration-color: #00d7ff\">None</span>, <span style=\"color: #00af00; text-decoration-color: #00af00\">14</span>, <span style=\"color: #00af00; text-decoration-color: #00af00\">99</span>)         │         <span style=\"color: #00af00; text-decoration-color: #00af00\">9,900</span> │\n",
       "├─────────────────────────────────┼────────────────────────┼───────────────┤\n",
       "│ max_pooling1d_17 (<span style=\"color: #0087ff; text-decoration-color: #0087ff\">MaxPooling1D</span>) │ (<span style=\"color: #00d7ff; text-decoration-color: #00d7ff\">None</span>, <span style=\"color: #00af00; text-decoration-color: #00af00\">7</span>, <span style=\"color: #00af00; text-decoration-color: #00af00\">99</span>)          │             <span style=\"color: #00af00; text-decoration-color: #00af00\">0</span> │\n",
       "├─────────────────────────────────┼────────────────────────┼───────────────┤\n",
       "│ flatten_17 (<span style=\"color: #0087ff; text-decoration-color: #0087ff\">Flatten</span>)            │ (<span style=\"color: #00d7ff; text-decoration-color: #00d7ff\">None</span>, <span style=\"color: #00af00; text-decoration-color: #00af00\">693</span>)            │             <span style=\"color: #00af00; text-decoration-color: #00af00\">0</span> │\n",
       "├─────────────────────────────────┼────────────────────────┼───────────────┤\n",
       "│ dense_91 (<span style=\"color: #0087ff; text-decoration-color: #0087ff\">Dense</span>)                │ (<span style=\"color: #00d7ff; text-decoration-color: #00d7ff\">None</span>, <span style=\"color: #00af00; text-decoration-color: #00af00\">15</span>)             │        <span style=\"color: #00af00; text-decoration-color: #00af00\">10,410</span> │\n",
       "└─────────────────────────────────┴────────────────────────┴───────────────┘\n",
       "</pre>\n"
      ],
      "text/plain": [
       "┏━━━━━━━━━━━━━━━━━━━━━━━━━━━━━━━━━┳━━━━━━━━━━━━━━━━━━━━━━━━┳━━━━━━━━━━━━━━━┓\n",
       "┃\u001b[1m \u001b[0m\u001b[1mLayer (type)                   \u001b[0m\u001b[1m \u001b[0m┃\u001b[1m \u001b[0m\u001b[1mOutput Shape          \u001b[0m\u001b[1m \u001b[0m┃\u001b[1m \u001b[0m\u001b[1m      Param #\u001b[0m\u001b[1m \u001b[0m┃\n",
       "┡━━━━━━━━━━━━━━━━━━━━━━━━━━━━━━━━━╇━━━━━━━━━━━━━━━━━━━━━━━━╇━━━━━━━━━━━━━━━┩\n",
       "│ conv1d_17 (\u001b[38;5;33mConv1D\u001b[0m)              │ (\u001b[38;5;45mNone\u001b[0m, \u001b[38;5;34m14\u001b[0m, \u001b[38;5;34m99\u001b[0m)         │         \u001b[38;5;34m1,881\u001b[0m │\n",
       "├─────────────────────────────────┼────────────────────────┼───────────────┤\n",
       "│ batch_normalization_9           │ (\u001b[38;5;45mNone\u001b[0m, \u001b[38;5;34m14\u001b[0m, \u001b[38;5;34m99\u001b[0m)         │           \u001b[38;5;34m396\u001b[0m │\n",
       "│ (\u001b[38;5;33mBatchNormalization\u001b[0m)            │                        │               │\n",
       "├─────────────────────────────────┼────────────────────────┼───────────────┤\n",
       "│ dense_88 (\u001b[38;5;33mDense\u001b[0m)                │ (\u001b[38;5;45mNone\u001b[0m, \u001b[38;5;34m14\u001b[0m, \u001b[38;5;34m99\u001b[0m)         │         \u001b[38;5;34m9,900\u001b[0m │\n",
       "├─────────────────────────────────┼────────────────────────┼───────────────┤\n",
       "│ dense_89 (\u001b[38;5;33mDense\u001b[0m)                │ (\u001b[38;5;45mNone\u001b[0m, \u001b[38;5;34m14\u001b[0m, \u001b[38;5;34m99\u001b[0m)         │         \u001b[38;5;34m9,900\u001b[0m │\n",
       "├─────────────────────────────────┼────────────────────────┼───────────────┤\n",
       "│ dense_90 (\u001b[38;5;33mDense\u001b[0m)                │ (\u001b[38;5;45mNone\u001b[0m, \u001b[38;5;34m14\u001b[0m, \u001b[38;5;34m99\u001b[0m)         │         \u001b[38;5;34m9,900\u001b[0m │\n",
       "├─────────────────────────────────┼────────────────────────┼───────────────┤\n",
       "│ max_pooling1d_17 (\u001b[38;5;33mMaxPooling1D\u001b[0m) │ (\u001b[38;5;45mNone\u001b[0m, \u001b[38;5;34m7\u001b[0m, \u001b[38;5;34m99\u001b[0m)          │             \u001b[38;5;34m0\u001b[0m │\n",
       "├─────────────────────────────────┼────────────────────────┼───────────────┤\n",
       "│ flatten_17 (\u001b[38;5;33mFlatten\u001b[0m)            │ (\u001b[38;5;45mNone\u001b[0m, \u001b[38;5;34m693\u001b[0m)            │             \u001b[38;5;34m0\u001b[0m │\n",
       "├─────────────────────────────────┼────────────────────────┼───────────────┤\n",
       "│ dense_91 (\u001b[38;5;33mDense\u001b[0m)                │ (\u001b[38;5;45mNone\u001b[0m, \u001b[38;5;34m15\u001b[0m)             │        \u001b[38;5;34m10,410\u001b[0m │\n",
       "└─────────────────────────────────┴────────────────────────┴───────────────┘\n"
      ]
     },
     "metadata": {},
     "output_type": "display_data"
    },
    {
     "data": {
      "text/html": [
       "<pre style=\"white-space:pre;overflow-x:auto;line-height:normal;font-family:Menlo,'DejaVu Sans Mono',consolas,'Courier New',monospace\"><span style=\"font-weight: bold\"> Total params: </span><span style=\"color: #00af00; text-decoration-color: #00af00\">42,387</span> (165.57 KB)\n",
       "</pre>\n"
      ],
      "text/plain": [
       "\u001b[1m Total params: \u001b[0m\u001b[38;5;34m42,387\u001b[0m (165.57 KB)\n"
      ]
     },
     "metadata": {},
     "output_type": "display_data"
    },
    {
     "data": {
      "text/html": [
       "<pre style=\"white-space:pre;overflow-x:auto;line-height:normal;font-family:Menlo,'DejaVu Sans Mono',consolas,'Courier New',monospace\"><span style=\"font-weight: bold\"> Trainable params: </span><span style=\"color: #00af00; text-decoration-color: #00af00\">42,189</span> (164.80 KB)\n",
       "</pre>\n"
      ],
      "text/plain": [
       "\u001b[1m Trainable params: \u001b[0m\u001b[38;5;34m42,189\u001b[0m (164.80 KB)\n"
      ]
     },
     "metadata": {},
     "output_type": "display_data"
    },
    {
     "data": {
      "text/html": [
       "<pre style=\"white-space:pre;overflow-x:auto;line-height:normal;font-family:Menlo,'DejaVu Sans Mono',consolas,'Courier New',monospace\"><span style=\"font-weight: bold\"> Non-trainable params: </span><span style=\"color: #00af00; text-decoration-color: #00af00\">198</span> (792.00 B)\n",
       "</pre>\n"
      ],
      "text/plain": [
       "\u001b[1m Non-trainable params: \u001b[0m\u001b[38;5;34m198\u001b[0m (792.00 B)\n"
      ]
     },
     "metadata": {},
     "output_type": "display_data"
    }
   ],
   "source": [
    "model.summary()"
   ]
  },
  {
   "cell_type": "code",
   "execution_count": 86,
   "id": "d325c493-1523-451f-af8c-5a30627cf942",
   "metadata": {},
   "outputs": [],
   "source": [
    "# Put the y_test set back into a one-hot configuration\n",
    "y_train_one_hot = to_categorical(y_train_encoded, num_classes=15)"
   ]
  },
  {
   "cell_type": "code",
   "execution_count": 88,
   "id": "35e9dc44-cf7a-4528-8bc2-b887c1fa886e",
   "metadata": {},
   "outputs": [
    {
     "name": "stdout",
     "output_type": "stream",
     "text": [
      "X_train shape: (17212, 15, 9)\n",
      "y_train_one_hot shape: (17212, 15)\n"
     ]
    }
   ],
   "source": [
    "# Check shapes\n",
    "print(f'X_train shape: {X_train.shape}')\n",
    "print(f'y_train_one_hot shape: {y_train_one_hot.shape}')"
   ]
  },
  {
   "cell_type": "code",
   "execution_count": 90,
   "id": "d7ff4bc3-b63e-4a48-8fc2-3f08303fa31a",
   "metadata": {},
   "outputs": [],
   "source": [
    "# Compile the model with categorical_crossentropy\n",
    "model.compile(loss='categorical_crossentropy', optimizer=optimizer, metrics=['accuracy'])"
   ]
  },
  {
   "cell_type": "code",
   "execution_count": 92,
   "id": "babf68cd-6df0-4bb6-9e35-7f00199a0850",
   "metadata": {},
   "outputs": [
    {
     "name": "stdout",
     "output_type": "stream",
     "text": [
      "Epoch 1/36\n",
      "85/85 - 2s - 23ms/step - accuracy: 0.6063 - loss: 6943.7642\n",
      "Epoch 2/36\n",
      "85/85 - 1s - 7ms/step - accuracy: 0.6440 - loss: 1.1757\n",
      "Epoch 3/36\n",
      "85/85 - 1s - 8ms/step - accuracy: 0.6440 - loss: 1.1736\n",
      "Epoch 4/36\n",
      "85/85 - 1s - 7ms/step - accuracy: 0.6440 - loss: 1.1735\n",
      "Epoch 5/36\n",
      "85/85 - 1s - 7ms/step - accuracy: 0.6440 - loss: 1.1748\n",
      "Epoch 6/36\n",
      "85/85 - 1s - 7ms/step - accuracy: 0.6440 - loss: 1.1749\n",
      "Epoch 7/36\n",
      "85/85 - 1s - 8ms/step - accuracy: 0.6440 - loss: 1.1750\n",
      "Epoch 8/36\n",
      "85/85 - 1s - 8ms/step - accuracy: 0.6440 - loss: 1.1744\n",
      "Epoch 9/36\n",
      "85/85 - 1s - 8ms/step - accuracy: 0.6440 - loss: 1.1752\n",
      "Epoch 10/36\n",
      "85/85 - 1s - 8ms/step - accuracy: 0.6440 - loss: 1.1731\n",
      "Epoch 11/36\n",
      "85/85 - 1s - 8ms/step - accuracy: 0.6440 - loss: 1.1723\n",
      "Epoch 12/36\n",
      "85/85 - 1s - 8ms/step - accuracy: 0.6440 - loss: 1.1735\n",
      "Epoch 13/36\n",
      "85/85 - 1s - 8ms/step - accuracy: 0.6440 - loss: 1.1755\n",
      "Epoch 14/36\n",
      "85/85 - 1s - 7ms/step - accuracy: 0.6440 - loss: 1.1752\n",
      "Epoch 15/36\n",
      "85/85 - 1s - 7ms/step - accuracy: 0.6440 - loss: 1.1755\n",
      "Epoch 16/36\n",
      "85/85 - 1s - 7ms/step - accuracy: 0.6440 - loss: 1.1744\n",
      "Epoch 17/36\n",
      "85/85 - 1s - 8ms/step - accuracy: 0.6440 - loss: 1.1747\n",
      "Epoch 18/36\n",
      "85/85 - 1s - 8ms/step - accuracy: 0.6440 - loss: 1.1735\n",
      "Epoch 19/36\n",
      "85/85 - 1s - 8ms/step - accuracy: 0.6440 - loss: 1.1746\n",
      "Epoch 20/36\n",
      "85/85 - 1s - 8ms/step - accuracy: 0.6440 - loss: 1.1741\n",
      "Epoch 21/36\n",
      "85/85 - 1s - 8ms/step - accuracy: 0.6440 - loss: 1.1763\n",
      "Epoch 22/36\n",
      "85/85 - 1s - 8ms/step - accuracy: 0.6440 - loss: 1.1738\n",
      "Epoch 23/36\n",
      "85/85 - 1s - 8ms/step - accuracy: 0.6440 - loss: 1.1736\n",
      "Epoch 24/36\n",
      "85/85 - 1s - 8ms/step - accuracy: 0.6440 - loss: 1.1733\n",
      "Epoch 25/36\n",
      "85/85 - 1s - 8ms/step - accuracy: 0.6440 - loss: 1.1734\n",
      "Epoch 26/36\n",
      "85/85 - 1s - 8ms/step - accuracy: 0.6440 - loss: 1.1743\n",
      "Epoch 27/36\n",
      "85/85 - 1s - 7ms/step - accuracy: 0.6440 - loss: 1.1731\n",
      "Epoch 28/36\n",
      "85/85 - 1s - 8ms/step - accuracy: 0.6440 - loss: 1.1748\n",
      "Epoch 29/36\n",
      "85/85 - 1s - 8ms/step - accuracy: 0.6440 - loss: 1.1740\n",
      "Epoch 30/36\n",
      "85/85 - 1s - 8ms/step - accuracy: 0.6440 - loss: 1.1739\n",
      "Epoch 31/36\n",
      "85/85 - 1s - 7ms/step - accuracy: 0.6440 - loss: 1.1760\n",
      "Epoch 32/36\n",
      "85/85 - 1s - 8ms/step - accuracy: 0.6440 - loss: 1.1734\n",
      "Epoch 33/36\n",
      "85/85 - 1s - 8ms/step - accuracy: 0.6440 - loss: 1.1762\n",
      "Epoch 34/36\n",
      "85/85 - 1s - 8ms/step - accuracy: 0.6440 - loss: 1.1749\n",
      "Epoch 35/36\n",
      "85/85 - 1s - 8ms/step - accuracy: 0.6440 - loss: 1.1737\n",
      "Epoch 36/36\n",
      "85/85 - 1s - 8ms/step - accuracy: 0.6440 - loss: 1.1755\n"
     ]
    },
    {
     "data": {
      "text/plain": [
       "<keras.src.callbacks.history.History at 0x2366d171a30>"
      ]
     },
     "execution_count": 92,
     "metadata": {},
     "output_type": "execute_result"
    }
   ],
   "source": [
    "# Fit the model to the data\n",
    "model.fit(X_train, y_train_one_hot, batch_size=batch_size, epochs=epochs, verbose=2)"
   ]
  },
  {
   "cell_type": "code",
   "execution_count": 94,
   "id": "5b5cf25e-dce2-4685-9d6e-fef8b65f1889",
   "metadata": {},
   "outputs": [],
   "source": [
    "# Define list of stations names\n",
    "stations = {\n",
    "0: 'BASEL',\n",
    "1: 'BELGRADE',\n",
    "2: 'BUDAPEST',\n",
    "3: 'DEBILT',\n",
    "4: 'DUSSELDORF',\n",
    "5: 'HEATHROW',\n",
    "6: 'KASSEL',\n",
    "7: 'LJUBLJANA',\n",
    "8: 'MAASTRICHT',\n",
    "9: 'MADRID',\n",
    "10: 'MUNCHENB',\n",
    "11: 'OSLO',\n",
    "12: 'SONNBLICK',\n",
    "13: 'STOCKHOLM',\n",
    "14: 'VALENTIA'\n",
    "}"
   ]
  },
  {
   "cell_type": "code",
   "execution_count": 96,
   "id": "1ce469eb-1947-401e-97dc-0eaabaad39e2",
   "metadata": {},
   "outputs": [
    {
     "name": "stdout",
     "output_type": "stream",
     "text": [
      "Unique classes in y_test: [ 0  1  2  3  4  5  6  7  8  9 10 11 13 14]\n"
     ]
    }
   ],
   "source": [
    "print(\"Unique classes in y_test:\", np.unique(y_test))"
   ]
  },
  {
   "cell_type": "code",
   "execution_count": 98,
   "id": "de0e46ec-0679-4199-843d-c14dafa6d460",
   "metadata": {},
   "outputs": [],
   "source": [
    "def confusion_matrix(y_true, y_pred, stations):\n",
    "    # Check if y_true and y_pred are one-hot encoded or already class indices\n",
    "    if y_true.ndim == 1:\n",
    "        y_true_labels = y_true\n",
    "    else:\n",
    "        y_true_labels = np.argmax(y_true, axis=1)\n",
    "    \n",
    "    if y_pred.ndim == 1:\n",
    "        y_pred_labels = y_pred\n",
    "    else:\n",
    "        y_pred_labels = np.argmax(y_pred, axis=1)\n",
    "        \n",
    "    # Map numeric labels to activity names\n",
    "    y_true_series = pd.Series([stations[y] for y in y_true_labels])\n",
    "    y_pred_series = pd.Series([stations[y] for y in y_pred_labels])\n",
    "    \n",
    "    return pd.crosstab(y_true_series, y_pred_series, rownames=['True'], colnames=['Pred'])\n"
   ]
  },
  {
   "cell_type": "code",
   "execution_count": 100,
   "id": "ac3399a6-6a75-4d71-9425-f7a0a54d2c44",
   "metadata": {},
   "outputs": [
    {
     "name": "stdout",
     "output_type": "stream",
     "text": [
      "\u001b[1m180/180\u001b[0m \u001b[32m━━━━━━━━━━━━━━━━━━━━\u001b[0m\u001b[37m\u001b[0m \u001b[1m0s\u001b[0m 2ms/step\n",
      "Accuracy: 64.17%\n"
     ]
    }
   ],
   "source": [
    "# Before making predictions, convert y_test to one-hot format\n",
    "y_test_one_hot = to_categorical(y_test, num_classes=15)\n",
    "\n",
    "# Predict the class probabilities\n",
    "y_pred = model.predict(X_test)\n",
    "\n",
    "# Convert y_test and y_pred to class labels\n",
    "if y_test_one_hot.ndim == 1:\n",
    "    y_test_labels = y_test_one_hot\n",
    "else:\n",
    "    y_test_labels = np.argmax(y_test_one_hot, axis=1)\n",
    "\n",
    "if y_pred.ndim == 1:\n",
    "    y_pred_labels = y_pred\n",
    "else:\n",
    "    y_pred_labels = np.argmax(y_pred, axis=1)\n",
    "\n",
    "# Manually calculate accuracy\n",
    "correct_predictions = np.sum(y_test_labels == y_pred_labels)\n",
    "total_samples = len(y_test_labels)\n",
    "accuracy = correct_predictions / total_samples\n",
    "\n",
    "print(f'Accuracy: {accuracy * 100:.2f}%')"
   ]
  },
  {
   "cell_type": "code",
   "execution_count": 102,
   "id": "01534c7b-bbdf-43fb-b942-567e69a41975",
   "metadata": {},
   "outputs": [],
   "source": [
    "y_pred_labels = np.argmax(y_pred, axis=1)"
   ]
  },
  {
   "cell_type": "code",
   "execution_count": 104,
   "id": "98d8e099-26c7-43b7-b848-8397380c0c8f",
   "metadata": {},
   "outputs": [],
   "source": [
    "# Convert y_test_one_hot back to class labels\n",
    "y_test_labels = np.argmax(y_test_one_hot, axis=1)"
   ]
  },
  {
   "cell_type": "code",
   "execution_count": 106,
   "id": "3e31bf9d-ae68-4f68-ba54-90c1631b3b1d",
   "metadata": {},
   "outputs": [
    {
     "name": "stdout",
     "output_type": "stream",
     "text": [
      "Pred        BASEL\n",
      "True             \n",
      "BASEL        3682\n",
      "BELGRADE     1092\n",
      "BUDAPEST      214\n",
      "DEBILT         82\n",
      "DUSSELDORF     29\n",
      "HEATHROW       82\n",
      "KASSEL         11\n",
      "LJUBLJANA      61\n",
      "MAASTRICHT      9\n",
      "MADRID        458\n",
      "MUNCHENB        8\n",
      "OSLO            5\n",
      "STOCKHOLM       4\n",
      "VALENTIA        1\n"
     ]
    }
   ],
   "source": [
    "# Create Confusion Matrix\n",
    "print(confusion_matrix(y_test, y_pred, stations))"
   ]
  }
 ],
 "metadata": {
  "kernelspec": {
   "display_name": "Python [conda env:base] *",
   "language": "python",
   "name": "conda-base-py"
  },
  "language_info": {
   "codemirror_mode": {
    "name": "ipython",
    "version": 3
   },
   "file_extension": ".py",
   "mimetype": "text/x-python",
   "name": "python",
   "nbconvert_exporter": "python",
   "pygments_lexer": "ipython3",
   "version": "3.12.4"
  }
 },
 "nbformat": 4,
 "nbformat_minor": 5
}
